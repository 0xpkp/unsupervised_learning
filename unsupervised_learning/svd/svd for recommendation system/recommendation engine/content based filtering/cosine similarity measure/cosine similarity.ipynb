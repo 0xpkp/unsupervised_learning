{
 "cells": [
  {
   "cell_type": "code",
   "execution_count": 1,
   "metadata": {},
   "outputs": [],
   "source": [
    "# content based recommendation system using cosine similarity measure."
   ]
  },
  {
   "attachments": {
    "Screenshot 2023-11-24 064641.png": {
     "image/png": "[encoded data removed]"
    }
   },
   "cell_type": "markdown",
   "metadata": {},
   "source": [
    "![cosine similarity formula](<attachment:Screenshot 2023-11-24 064641.png>)\n",
    "\n",
    "# -1 -> inversely proportional\n",
    "# +1 -> directly proportional\n",
    "# 0 -> not proportional"
   ]
  },
  {
   "cell_type": "code",
   "execution_count": 29,
   "metadata": {},
   "outputs": [],
   "source": [
    "import pandas as pd\n",
    "import numpy as np\n",
    "\n",
    "from sklearn.feature_extraction.text import CountVectorizer\n",
    "from sklearn.metrics.pairwise import cosine_similarity"
   ]
  },
  {
   "cell_type": "code",
   "execution_count": 11,
   "metadata": {},
   "outputs": [
    {
     "data": {
      "text/html": [
       "<div>\n",
       "<style scoped>\n",
       "    .dataframe tbody tr th:only-of-type {\n",
       "        vertical-align: middle;\n",
       "    }\n",
       "\n",
       "    .dataframe tbody tr th {\n",
       "        vertical-align: top;\n",
       "    }\n",
       "\n",
       "    .dataframe thead th {\n",
       "        text-align: right;\n",
       "    }\n",
       "</style>\n",
       "<table border=\"1\" class=\"dataframe\">\n",
       "  <thead>\n",
       "    <tr style=\"text-align: right;\">\n",
       "      <th></th>\n",
       "      <th>Name</th>\n",
       "      <th>Year</th>\n",
       "      <th>Stars</th>\n",
       "      <th>Score</th>\n",
       "      <th>Time</th>\n",
       "      <th>Votes</th>\n",
       "      <th>Total</th>\n",
       "      <th>Tags</th>\n",
       "      <th>Directors_Cast</th>\n",
       "      <th>Discription</th>\n",
       "    </tr>\n",
       "  </thead>\n",
       "  <tbody>\n",
       "    <tr>\n",
       "      <th>0</th>\n",
       "      <td>Pulp Fiction</td>\n",
       "      <td>1994</td>\n",
       "      <td>8.9</td>\n",
       "      <td>94.0</td>\n",
       "      <td>154</td>\n",
       "      <td>1,871,051</td>\n",
       "      <td>$107.93</td>\n",
       "      <td>\\nCrime Drama</td>\n",
       "      <td>Quentin Tarantino John Travolta Uma Thurman Sa...</td>\n",
       "      <td>\\nThe lives of two mob hitmen a boxer a gangst...</td>\n",
       "    </tr>\n",
       "    <tr>\n",
       "      <th>1</th>\n",
       "      <td>The Amazing Spider-Man 2</td>\n",
       "      <td>2014</td>\n",
       "      <td>6.6</td>\n",
       "      <td>53.0</td>\n",
       "      <td>142</td>\n",
       "      <td>425,529</td>\n",
       "      <td>$202.85</td>\n",
       "      <td>\\nAction Adventure Fantasy</td>\n",
       "      <td>Marc Webb Andrew Garfield Emma Stone Jamie Fox...</td>\n",
       "      <td>\\nWhen New York is put under siege by Oscorp i...</td>\n",
       "    </tr>\n",
       "    <tr>\n",
       "      <th>2</th>\n",
       "      <td>The Shawshank Redemption</td>\n",
       "      <td>1994</td>\n",
       "      <td>9.3</td>\n",
       "      <td>80.0</td>\n",
       "      <td>142</td>\n",
       "      <td>2,409,436</td>\n",
       "      <td>$28.34</td>\n",
       "      <td>\\nDrama</td>\n",
       "      <td>Frank Darabont Tim Robbins Morgan Freeman Bob ...</td>\n",
       "      <td>\\nTwo imprisoned men bond over a number of yea...</td>\n",
       "    </tr>\n",
       "  </tbody>\n",
       "</table>\n",
       "</div>"
      ],
      "text/plain": [
       "                       Name  Year  Stars  Score  Time      Votes    Total  \\\n",
       "0              Pulp Fiction  1994    8.9   94.0  154   1,871,051  $107.93   \n",
       "1  The Amazing Spider-Man 2  2014    6.6   53.0  142     425,529  $202.85   \n",
       "2  The Shawshank Redemption  1994    9.3   80.0  142   2,409,436   $28.34   \n",
       "\n",
       "                                     Tags  \\\n",
       "0               \\nCrime Drama               \n",
       "1  \\nAction Adventure Fantasy               \n",
       "2                     \\nDrama               \n",
       "\n",
       "                                      Directors_Cast  \\\n",
       "0  Quentin Tarantino John Travolta Uma Thurman Sa...   \n",
       "1  Marc Webb Andrew Garfield Emma Stone Jamie Fox...   \n",
       "2  Frank Darabont Tim Robbins Morgan Freeman Bob ...   \n",
       "\n",
       "                                         Discription  \n",
       "0  \\nThe lives of two mob hitmen a boxer a gangst...  \n",
       "1  \\nWhen New York is put under siege by Oscorp i...  \n",
       "2  \\nTwo imprisoned men bond over a number of yea...  "
      ]
     },
     "execution_count": 11,
     "metadata": {},
     "output_type": "execute_result"
    }
   ],
   "source": [
    "df = pd.read_csv('data.csv') # this is a precleaned dataset\n",
    "df.head(3)"
   ]
  },
  {
   "cell_type": "code",
   "execution_count": 13,
   "metadata": {},
   "outputs": [
    {
     "data": {
      "text/plain": [
       "(9937, 10)"
      ]
     },
     "execution_count": 13,
     "metadata": {},
     "output_type": "execute_result"
    }
   ],
   "source": [
    "df.shape"
   ]
  },
  {
   "cell_type": "code",
   "execution_count": 14,
   "metadata": {},
   "outputs": [
    {
     "data": {
      "text/plain": [
       "Name                 0\n",
       "Year               183\n",
       "Stars              212\n",
       "Score             3792\n",
       "Time               215\n",
       "Votes              201\n",
       "Total             3045\n",
       "Tags                 8\n",
       "Directors_Cast      84\n",
       "Discription       3792\n",
       "dtype: int64"
      ]
     },
     "execution_count": 14,
     "metadata": {},
     "output_type": "execute_result"
    }
   ],
   "source": [
    "df.isnull().sum()"
   ]
  },
  {
   "cell_type": "code",
   "execution_count": 16,
   "metadata": {},
   "outputs": [
    {
     "name": "stdout",
     "output_type": "stream",
     "text": [
      "<class 'pandas.core.frame.DataFrame'>\n",
      "RangeIndex: 9937 entries, 0 to 9936\n",
      "Data columns (total 10 columns):\n",
      " #   Column          Non-Null Count  Dtype  \n",
      "---  ------          --------------  -----  \n",
      " 0   Name            9937 non-null   object \n",
      " 1   Year            9754 non-null   object \n",
      " 2   Stars           9725 non-null   float64\n",
      " 3   Score           6145 non-null   float64\n",
      " 4   Time            9722 non-null   object \n",
      " 5   Votes           9736 non-null   object \n",
      " 6   Total           6892 non-null   object \n",
      " 7   Tags            9929 non-null   object \n",
      " 8   Directors_Cast  9853 non-null   object \n",
      " 9   Discription     6145 non-null   object \n",
      "dtypes: float64(2), object(8)\n",
      "memory usage: 776.5+ KB\n"
     ]
    }
   ],
   "source": [
    "df.info()"
   ]
  },
  {
   "cell_type": "code",
   "execution_count": 17,
   "metadata": {},
   "outputs": [
    {
     "data": {
      "text/plain": [
       "Index(['Name', 'Year', 'Stars', 'Score', 'Time', 'Votes', 'Total', 'Tags',\n",
       "       'Directors_Cast', 'Discription'],\n",
       "      dtype='object')"
      ]
     },
     "execution_count": 17,
     "metadata": {},
     "output_type": "execute_result"
    }
   ],
   "source": [
    "df.columns"
   ]
  },
  {
   "cell_type": "code",
   "execution_count": 68,
   "metadata": {},
   "outputs": [
    {
     "data": {
      "text/html": [
       "<div>\n",
       "<style scoped>\n",
       "    .dataframe tbody tr th:only-of-type {\n",
       "        vertical-align: middle;\n",
       "    }\n",
       "\n",
       "    .dataframe tbody tr th {\n",
       "        vertical-align: top;\n",
       "    }\n",
       "\n",
       "    .dataframe thead th {\n",
       "        text-align: right;\n",
       "    }\n",
       "</style>\n",
       "<table border=\"1\" class=\"dataframe\">\n",
       "  <thead>\n",
       "    <tr style=\"text-align: right;\">\n",
       "      <th></th>\n",
       "      <th>Name</th>\n",
       "      <th>Year</th>\n",
       "      <th>Stars</th>\n",
       "      <th>Score</th>\n",
       "      <th>Time</th>\n",
       "      <th>Votes</th>\n",
       "      <th>Total</th>\n",
       "      <th>Tags</th>\n",
       "      <th>Directors_Cast</th>\n",
       "      <th>Discription</th>\n",
       "      <th>important_features</th>\n",
       "      <th>movie_id</th>\n",
       "    </tr>\n",
       "  </thead>\n",
       "  <tbody>\n",
       "    <tr>\n",
       "      <th>0</th>\n",
       "      <td>Pulp Fiction</td>\n",
       "      <td>1994</td>\n",
       "      <td>8.9</td>\n",
       "      <td>94.0</td>\n",
       "      <td>154</td>\n",
       "      <td>1,871,051</td>\n",
       "      <td>$107.93</td>\n",
       "      <td>\\nCrime Drama</td>\n",
       "      <td>Quentin Tarantino John Travolta Uma Thurman Sa...</td>\n",
       "      <td>\\nThe lives of two mob hitmen a boxer a gangst...</td>\n",
       "      <td>\\nCrime Drama            Quentin Tarantino Joh...</td>\n",
       "      <td>0</td>\n",
       "    </tr>\n",
       "    <tr>\n",
       "      <th>1</th>\n",
       "      <td>The Amazing Spider-Man 2</td>\n",
       "      <td>2014</td>\n",
       "      <td>6.6</td>\n",
       "      <td>53.0</td>\n",
       "      <td>142</td>\n",
       "      <td>425,529</td>\n",
       "      <td>$202.85</td>\n",
       "      <td>\\nAction Adventure Fantasy</td>\n",
       "      <td>Marc Webb Andrew Garfield Emma Stone Jamie Fox...</td>\n",
       "      <td>\\nWhen New York is put under siege by Oscorp i...</td>\n",
       "      <td>\\nAction Adventure Fantasy            Marc Web...</td>\n",
       "      <td>1</td>\n",
       "    </tr>\n",
       "  </tbody>\n",
       "</table>\n",
       "</div>"
      ],
      "text/plain": [
       "                       Name  Year Stars Score  Time      Votes    Total  \\\n",
       "0              Pulp Fiction  1994   8.9  94.0  154   1,871,051  $107.93   \n",
       "1  The Amazing Spider-Man 2  2014   6.6  53.0  142     425,529  $202.85   \n",
       "\n",
       "                                     Tags  \\\n",
       "0               \\nCrime Drama               \n",
       "1  \\nAction Adventure Fantasy               \n",
       "\n",
       "                                      Directors_Cast  \\\n",
       "0  Quentin Tarantino John Travolta Uma Thurman Sa...   \n",
       "1  Marc Webb Andrew Garfield Emma Stone Jamie Fox...   \n",
       "\n",
       "                                         Discription  \\\n",
       "0  \\nThe lives of two mob hitmen a boxer a gangst...   \n",
       "1  \\nWhen New York is put under siege by Oscorp i...   \n",
       "\n",
       "                                  important_features  movie_id  \n",
       "0  \\nCrime Drama            Quentin Tarantino Joh...         0  \n",
       "1  \\nAction Adventure Fantasy            Marc Web...         1  "
      ]
     },
     "execution_count": 68,
     "metadata": {},
     "output_type": "execute_result"
    }
   ],
   "source": [
    "# including movie_id\n",
    "df['movie_id'] = [i for i in range(len(df))]\n",
    "df.head(2)"
   ]
  },
  {
   "cell_type": "code",
   "execution_count": 69,
   "metadata": {},
   "outputs": [],
   "source": [
    "df.fillna('', inplace = True)\n",
    "\n",
    "df['important_features'] = df.Tags + df.Directors_Cast + df.Discription"
   ]
  },
  {
   "cell_type": "code",
   "execution_count": 70,
   "metadata": {},
   "outputs": [
    {
     "data": {
      "text/plain": [
       "array([[0, 0, 0, ..., 0, 0, 0],\n",
       "       [0, 0, 0, ..., 0, 0, 0],\n",
       "       [0, 0, 0, ..., 0, 0, 0],\n",
       "       ...,\n",
       "       [0, 0, 0, ..., 0, 0, 0],\n",
       "       [0, 0, 0, ..., 0, 0, 0],\n",
       "       [0, 0, 0, ..., 0, 0, 0]], dtype=int64)"
      ]
     },
     "execution_count": 70,
     "metadata": {},
     "output_type": "execute_result"
    }
   ],
   "source": [
    "cv = CountVectorizer()\n",
    "vec = cv.fit_transform(df['important_features'])\n",
    "vec.toarray()"
   ]
  },
  {
   "cell_type": "code",
   "execution_count": 71,
   "metadata": {},
   "outputs": [],
   "source": [
    "# cosine_similarity\n",
    "\n",
    "_vec = cosine_similarity(vec)"
   ]
  },
  {
   "cell_type": "code",
   "execution_count": 72,
   "metadata": {},
   "outputs": [
    {
     "data": {
      "text/plain": [
       "array([[1.        , 0.02001602, 0.25923792, ..., 0.        , 0.04811252,\n",
       "        0.        ],\n",
       "       [0.02001602, 1.        , 0.        , ..., 0.        , 0.23112508,\n",
       "        0.        ],\n",
       "       [0.25923792, 0.        , 1.        , ..., 0.05184758, 0.        ,\n",
       "        0.1796053 ],\n",
       "       ...,\n",
       "       [0.        , 0.        , 0.05184758, ..., 1.        , 0.        ,\n",
       "        0.28867513],\n",
       "       [0.04811252, 0.23112508, 0.        , ..., 0.        , 1.        ,\n",
       "        0.        ],\n",
       "       [0.        , 0.        , 0.1796053 , ..., 0.28867513, 0.        ,\n",
       "        1.        ]])"
      ]
     },
     "execution_count": 72,
     "metadata": {},
     "output_type": "execute_result"
    }
   ],
   "source": [
    "_vec # each row is a movie and values in that row is cosine similarity between that movie and other movies."
   ]
  },
  {
   "cell_type": "code",
   "execution_count": 73,
   "metadata": {},
   "outputs": [
    {
     "data": {
      "text/html": [
       "<div>\n",
       "<style scoped>\n",
       "    .dataframe tbody tr th:only-of-type {\n",
       "        vertical-align: middle;\n",
       "    }\n",
       "\n",
       "    .dataframe tbody tr th {\n",
       "        vertical-align: top;\n",
       "    }\n",
       "\n",
       "    .dataframe thead th {\n",
       "        text-align: right;\n",
       "    }\n",
       "</style>\n",
       "<table border=\"1\" class=\"dataframe\">\n",
       "  <thead>\n",
       "    <tr style=\"text-align: right;\">\n",
       "      <th></th>\n",
       "      <th>Pulp Fiction</th>\n",
       "      <th>The Amazing Spider-Man 2</th>\n",
       "      <th>The Shawshank Redemption</th>\n",
       "      <th>Star Wars: Episode IV - A New Hope</th>\n",
       "      <th>Back to the Future</th>\n",
       "      <th>The Breakfast Club</th>\n",
       "      <th>The Goonies</th>\n",
       "      <th>The Silence of the Lambs</th>\n",
       "      <th>Jurassic Park</th>\n",
       "      <th>The Lion King</th>\n",
       "      <th>...</th>\n",
       "      <th>By the Sea</th>\n",
       "      <th>Allied</th>\n",
       "      <th>Americanah</th>\n",
       "      <th>Mojave</th>\n",
       "      <th>The Sea of Trees</th>\n",
       "      <th>Cell</th>\n",
       "      <th>Geralds Game</th>\n",
       "      <th>Liseys Story</th>\n",
       "      <th>John Wick: Chapter 2</th>\n",
       "      <th>The Company Man</th>\n",
       "    </tr>\n",
       "  </thead>\n",
       "  <tbody>\n",
       "    <tr>\n",
       "      <th>Pulp Fiction</th>\n",
       "      <td>1.000000</td>\n",
       "      <td>0.020016</td>\n",
       "      <td>0.259238</td>\n",
       "      <td>0.075165</td>\n",
       "      <td>0.042563</td>\n",
       "      <td>0.168394</td>\n",
       "      <td>0.136931</td>\n",
       "      <td>0.200446</td>\n",
       "      <td>0.067625</td>\n",
       "      <td>0.142374</td>\n",
       "      <td>...</td>\n",
       "      <td>0.026803</td>\n",
       "      <td>0.125000</td>\n",
       "      <td>0.000000</td>\n",
       "      <td>0.028307</td>\n",
       "      <td>0.125630</td>\n",
       "      <td>0.123768</td>\n",
       "      <td>0.169120</td>\n",
       "      <td>0.000000</td>\n",
       "      <td>0.048113</td>\n",
       "      <td>0.000000</td>\n",
       "    </tr>\n",
       "    <tr>\n",
       "      <th>The Amazing Spider-Man 2</th>\n",
       "      <td>0.020016</td>\n",
       "      <td>1.000000</td>\n",
       "      <td>0.000000</td>\n",
       "      <td>0.234701</td>\n",
       "      <td>0.122679</td>\n",
       "      <td>0.000000</td>\n",
       "      <td>0.109632</td>\n",
       "      <td>0.106990</td>\n",
       "      <td>0.173259</td>\n",
       "      <td>0.182384</td>\n",
       "      <td>...</td>\n",
       "      <td>0.077254</td>\n",
       "      <td>0.100080</td>\n",
       "      <td>0.000000</td>\n",
       "      <td>0.081589</td>\n",
       "      <td>0.072421</td>\n",
       "      <td>0.237826</td>\n",
       "      <td>0.252755</td>\n",
       "      <td>0.000000</td>\n",
       "      <td>0.231125</td>\n",
       "      <td>0.000000</td>\n",
       "    </tr>\n",
       "    <tr>\n",
       "      <th>The Shawshank Redemption</th>\n",
       "      <td>0.259238</td>\n",
       "      <td>0.000000</td>\n",
       "      <td>1.000000</td>\n",
       "      <td>0.023383</td>\n",
       "      <td>0.026481</td>\n",
       "      <td>0.059868</td>\n",
       "      <td>0.085194</td>\n",
       "      <td>0.083141</td>\n",
       "      <td>0.056099</td>\n",
       "      <td>0.029527</td>\n",
       "      <td>...</td>\n",
       "      <td>0.033352</td>\n",
       "      <td>0.051848</td>\n",
       "      <td>0.056796</td>\n",
       "      <td>0.070447</td>\n",
       "      <td>0.062531</td>\n",
       "      <td>0.000000</td>\n",
       "      <td>0.070148</td>\n",
       "      <td>0.051848</td>\n",
       "      <td>0.000000</td>\n",
       "      <td>0.179605</td>\n",
       "    </tr>\n",
       "    <tr>\n",
       "      <th>Star Wars: Episode IV - A New Hope</th>\n",
       "      <td>0.075165</td>\n",
       "      <td>0.234701</td>\n",
       "      <td>0.023383</td>\n",
       "      <td>1.000000</td>\n",
       "      <td>0.115172</td>\n",
       "      <td>0.021698</td>\n",
       "      <td>0.144093</td>\n",
       "      <td>0.120532</td>\n",
       "      <td>0.162657</td>\n",
       "      <td>0.149820</td>\n",
       "      <td>...</td>\n",
       "      <td>0.072526</td>\n",
       "      <td>0.075165</td>\n",
       "      <td>0.000000</td>\n",
       "      <td>0.076596</td>\n",
       "      <td>0.135978</td>\n",
       "      <td>0.133963</td>\n",
       "      <td>0.237288</td>\n",
       "      <td>0.000000</td>\n",
       "      <td>0.173585</td>\n",
       "      <td>0.000000</td>\n",
       "    </tr>\n",
       "    <tr>\n",
       "      <th>Back to the Future</th>\n",
       "      <td>0.042563</td>\n",
       "      <td>0.122679</td>\n",
       "      <td>0.026481</td>\n",
       "      <td>0.115172</td>\n",
       "      <td>1.000000</td>\n",
       "      <td>0.098295</td>\n",
       "      <td>0.093250</td>\n",
       "      <td>0.068252</td>\n",
       "      <td>0.115133</td>\n",
       "      <td>0.121197</td>\n",
       "      <td>...</td>\n",
       "      <td>0.027379</td>\n",
       "      <td>0.170251</td>\n",
       "      <td>0.000000</td>\n",
       "      <td>0.115663</td>\n",
       "      <td>0.076999</td>\n",
       "      <td>0.075858</td>\n",
       "      <td>0.115172</td>\n",
       "      <td>0.000000</td>\n",
       "      <td>0.073721</td>\n",
       "      <td>0.000000</td>\n",
       "    </tr>\n",
       "  </tbody>\n",
       "</table>\n",
       "<p>5 rows × 9937 columns</p>\n",
       "</div>"
      ],
      "text/plain": [
       "                                    Pulp Fiction  The Amazing Spider-Man 2  \\\n",
       "Pulp Fiction                            1.000000                  0.020016   \n",
       "The Amazing Spider-Man 2                0.020016                  1.000000   \n",
       "The Shawshank Redemption                0.259238                  0.000000   \n",
       "Star Wars: Episode IV - A New Hope      0.075165                  0.234701   \n",
       "Back to the Future                      0.042563                  0.122679   \n",
       "\n",
       "                                    The Shawshank Redemption  \\\n",
       "Pulp Fiction                                        0.259238   \n",
       "The Amazing Spider-Man 2                            0.000000   \n",
       "The Shawshank Redemption                            1.000000   \n",
       "Star Wars: Episode IV - A New Hope                  0.023383   \n",
       "Back to the Future                                  0.026481   \n",
       "\n",
       "                                    Star Wars: Episode IV - A New Hope  \\\n",
       "Pulp Fiction                                                  0.075165   \n",
       "The Amazing Spider-Man 2                                      0.234701   \n",
       "The Shawshank Redemption                                      0.023383   \n",
       "Star Wars: Episode IV - A New Hope                            1.000000   \n",
       "Back to the Future                                            0.115172   \n",
       "\n",
       "                                    Back to the Future  The Breakfast Club  \\\n",
       "Pulp Fiction                                  0.042563            0.168394   \n",
       "The Amazing Spider-Man 2                      0.122679            0.000000   \n",
       "The Shawshank Redemption                      0.026481            0.059868   \n",
       "Star Wars: Episode IV - A New Hope            0.115172            0.021698   \n",
       "Back to the Future                            1.000000            0.098295   \n",
       "\n",
       "                                    The Goonies  The Silence of the Lambs  \\\n",
       "Pulp Fiction                           0.136931                  0.200446   \n",
       "The Amazing Spider-Man 2               0.109632                  0.106990   \n",
       "The Shawshank Redemption               0.085194                  0.083141   \n",
       "Star Wars: Episode IV - A New Hope     0.144093                  0.120532   \n",
       "Back to the Future                     0.093250                  0.068252   \n",
       "\n",
       "                                    Jurassic Park  The Lion King  ...  \\\n",
       "Pulp Fiction                             0.067625       0.142374  ...   \n",
       "The Amazing Spider-Man 2                 0.173259       0.182384  ...   \n",
       "The Shawshank Redemption                 0.056099       0.029527  ...   \n",
       "Star Wars: Episode IV - A New Hope       0.162657       0.149820  ...   \n",
       "Back to the Future                       0.115133       0.121197  ...   \n",
       "\n",
       "                                    By the Sea    Allied  Americanah  \\\n",
       "Pulp Fiction                          0.026803  0.125000    0.000000   \n",
       "The Amazing Spider-Man 2              0.077254  0.100080    0.000000   \n",
       "The Shawshank Redemption              0.033352  0.051848    0.056796   \n",
       "Star Wars: Episode IV - A New Hope    0.072526  0.075165    0.000000   \n",
       "Back to the Future                    0.027379  0.170251    0.000000   \n",
       "\n",
       "                                      Mojave  The Sea of Trees      Cell  \\\n",
       "Pulp Fiction                        0.028307          0.125630  0.123768   \n",
       "The Amazing Spider-Man 2            0.081589          0.072421  0.237826   \n",
       "The Shawshank Redemption            0.070447          0.062531  0.000000   \n",
       "Star Wars: Episode IV - A New Hope  0.076596          0.135978  0.133963   \n",
       "Back to the Future                  0.115663          0.076999  0.075858   \n",
       "\n",
       "                                    Geralds Game  Liseys Story  \\\n",
       "Pulp Fiction                            0.169120      0.000000   \n",
       "The Amazing Spider-Man 2                0.252755      0.000000   \n",
       "The Shawshank Redemption                0.070148      0.051848   \n",
       "Star Wars: Episode IV - A New Hope      0.237288      0.000000   \n",
       "Back to the Future                      0.115172      0.000000   \n",
       "\n",
       "                                    John Wick: Chapter 2  The Company Man  \n",
       "Pulp Fiction                                    0.048113         0.000000  \n",
       "The Amazing Spider-Man 2                        0.231125         0.000000  \n",
       "The Shawshank Redemption                        0.000000         0.179605  \n",
       "Star Wars: Episode IV - A New Hope              0.173585         0.000000  \n",
       "Back to the Future                              0.073721         0.000000  \n",
       "\n",
       "[5 rows x 9937 columns]"
      ]
     },
     "execution_count": 73,
     "metadata": {},
     "output_type": "execute_result"
    }
   ],
   "source": [
    "# as i said above, each rows is a movie and each value in the row is the cosine similarity with other movies. \n",
    "i = [x for x in df.Name]\n",
    "_vec = pd.DataFrame(_vec, columns = i, index = i)\n",
    "_vec.head()"
   ]
  },
  {
   "cell_type": "code",
   "execution_count": 78,
   "metadata": {},
   "outputs": [
    {
     "data": {
      "text/html": [
       "<div>\n",
       "<style scoped>\n",
       "    .dataframe tbody tr th:only-of-type {\n",
       "        vertical-align: middle;\n",
       "    }\n",
       "\n",
       "    .dataframe tbody tr th {\n",
       "        vertical-align: top;\n",
       "    }\n",
       "\n",
       "    .dataframe thead th {\n",
       "        text-align: right;\n",
       "    }\n",
       "</style>\n",
       "<table border=\"1\" class=\"dataframe\">\n",
       "  <thead>\n",
       "    <tr style=\"text-align: right;\">\n",
       "      <th></th>\n",
       "      <th>Spider-Man</th>\n",
       "    </tr>\n",
       "  </thead>\n",
       "  <tbody>\n",
       "    <tr>\n",
       "      <th>Spider-Man</th>\n",
       "      <td>1.000000</td>\n",
       "    </tr>\n",
       "    <tr>\n",
       "      <th>Spider-Man 2</th>\n",
       "      <td>0.371305</td>\n",
       "    </tr>\n",
       "    <tr>\n",
       "      <th>Spider-Man 3</th>\n",
       "      <td>0.308158</td>\n",
       "    </tr>\n",
       "    <tr>\n",
       "      <th>The Amazing Spider-Man</th>\n",
       "      <td>0.297940</td>\n",
       "    </tr>\n",
       "    <tr>\n",
       "      <th>Starship Troopers</th>\n",
       "      <td>0.288675</td>\n",
       "    </tr>\n",
       "    <tr>\n",
       "      <th>Robotech</th>\n",
       "      <td>0.288675</td>\n",
       "    </tr>\n",
       "  </tbody>\n",
       "</table>\n",
       "</div>"
      ],
      "text/plain": [
       "                        Spider-Man\n",
       "Spider-Man                1.000000\n",
       "Spider-Man 2              0.371305\n",
       "Spider-Man 3              0.308158\n",
       "The Amazing Spider-Man    0.297940\n",
       "Starship Troopers         0.288675\n",
       "Robotech                  0.288675"
      ]
     },
     "execution_count": 78,
     "metadata": {},
     "output_type": "execute_result"
    }
   ],
   "source": [
    "# finding the index fo a movie\n",
    "# movie = Spider-Man\n",
    "index = df[df.Name == 'Spider-Man']['movie_id'].values[0]\n",
    "similarity_spider_man = _vec.iloc[233]\n",
    "similarity_spider_man = pd.DataFrame(similarity_spider_man)\n",
    "similarity_spider_man.sort_values(by = \"Spider-Man\", ascending = False, inplace = True)\n",
    "similarity_spider_man.head(6) # these are the top 5 movies that are similar to movie = Spider-Man"
   ]
  },
  {
   "cell_type": "code",
   "execution_count": null,
   "metadata": {},
   "outputs": [],
   "source": []
  }
 ],
 "metadata": {
  "kernelspec": {
   "display_name": "Python 3",
   "language": "python",
   "name": "python3"
  },
  "language_info": {
   "codemirror_mode": {
    "name": "ipython",
    "version": 3
   },
   "file_extension": ".py",
   "mimetype": "text/x-python",
   "name": "python",
   "nbconvert_exporter": "python",
   "pygments_lexer": "ipython3",
   "version": "3.11.4"
  }
 },
 "nbformat": 4,
 "nbformat_minor": 2
}
